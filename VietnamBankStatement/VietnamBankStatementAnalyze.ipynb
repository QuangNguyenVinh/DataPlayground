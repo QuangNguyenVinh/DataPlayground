{
 "cells": [
  {
   "cell_type": "markdown",
   "id": "8a77807f92f26ee",
   "metadata": {},
   "source": [
    "# This is a project that extract and analyze Vietnam Bank Statement \n",
    "\n"
   ]
  },
  {
   "cell_type": "code",
   "id": "fbc121e30a2defb3",
   "metadata": {
    "ExecuteTime": {
     "end_time": "2024-09-16T12:56:13.559221Z",
     "start_time": "2024-09-16T12:56:13.504488Z"
    }
   },
   "source": [
    "import pdfplumber\n",
    "import re\n",
    "from collections import defaultdict\n",
    "import csv\n",
    "import gc\n",
    "import os\n",
    "import concurrent.futures\n",
    "import threading\n",
    "lock=threading.Lock()"
   ],
   "outputs": [],
   "execution_count": 1
  },
  {
   "metadata": {
    "ExecuteTime": {
     "end_time": "2024-09-16T12:56:13.561779Z",
     "start_time": "2024-09-16T12:56:13.560217Z"
    }
   },
   "cell_type": "code",
   "source": [
    "pdf_file_path = \"data/Thong tin ung ho qua TSK VCB 0011001932418 tu 01.09 den10.09.2024.pdf\"\n",
    "csv_file_path = 'export/vcb_multithread.csv'"
   ],
   "id": "e96c9be61af85c81",
   "outputs": [],
   "execution_count": 2
  },
  {
   "metadata": {
    "ExecuteTime": {
     "end_time": "2024-09-16T12:56:13.564048Z",
     "start_time": "2024-09-16T12:56:13.562457Z"
    }
   },
   "cell_type": "code",
   "source": [
    "# Directory where individual CSVs will be saved\n",
    "output_dir = \"export/vcb_csvs\"\n",
    "os.makedirs(output_dir, exist_ok=True)"
   ],
   "id": "525df60511dad0fa",
   "outputs": [],
   "execution_count": 3
  },
  {
   "metadata": {
    "ExecuteTime": {
     "end_time": "2024-09-16T12:56:13.566799Z",
     "start_time": "2024-09-16T12:56:13.565201Z"
    }
   },
   "cell_type": "code",
   "source": "csv_headers = ['date', 'transaction_code', 'amount', 'transaction_detail']",
   "id": "f5c31181c5430803",
   "outputs": [],
   "execution_count": 4
  },
  {
   "metadata": {
    "ExecuteTime": {
     "end_time": "2024-09-16T12:56:13.569543Z",
     "start_time": "2024-09-16T12:56:13.567363Z"
    }
   },
   "cell_type": "code",
   "source": [
    "def export_csv(page_number, data):\n",
    "    output_csv_path = os.path.join(output_dir, f\"transactions_page_{page_number}.csv\")\n",
    "    with open(output_csv_path, 'w', newline='', encoding='utf-8') as csv_file:\n",
    "        writer = csv.DictWriter(csv_file, fieldnames=csv_headers)\n",
    "        writer.writeheader()\n",
    "        for transaction in data:\n",
    "            writer.writerow(transaction)\n",
    "    return output_csv_path"
   ],
   "id": "af2f08fbc308fc9b",
   "outputs": [],
   "execution_count": 5
  },
  {
   "metadata": {
    "ExecuteTime": {
     "end_time": "2024-09-16T12:56:13.573517Z",
     "start_time": "2024-09-16T12:56:13.570267Z"
    }
   },
   "cell_type": "code",
   "source": [
    "def transform_into_transactions(page, use_multithread=True):\n",
    "    print('Processing page {}'.format(page.page_number))\n",
    "    transactions = []\n",
    "    data = defaultdict(str) \n",
    "    if use_multithread:\n",
    "        lock.acquire()\n",
    "        text_chunks = page.extract_text().split('\\n')\n",
    "        lock.release()\n",
    "    else:\n",
    "        text_chunks = page.extract_text().split('\\n')\n",
    "    start = False\n",
    "    order = 0\n",
    "    date = None\n",
    "    for text_chunk in text_chunks:\n",
    "        #print(text_chunk)\n",
    "        # End to get data\n",
    "        if text_chunk == 'Postal address: Telex : (0805) 411504 VCB - VT':\n",
    "            break\n",
    "        # Begin to get data\n",
    "        if not start and text_chunk == 'Số CT/ Doc No':\n",
    "            start = True\n",
    "        elif start:\n",
    "            match_date_format = re.fullmatch(r'(\\d{2}/\\d{2}/\\d{4})', text_chunk)\n",
    "            if match_date_format:\n",
    "                # Reset order because there is new transaction row\n",
    "                order = 0\n",
    "                # Check new transaction or not\n",
    "                if data['transaction_code']:\n",
    "                    data['date'] = date\n",
    "                    transactions.append(data)\n",
    "                    # Reset json\n",
    "                    data = defaultdict(str)\n",
    "                date = match_date_format.group(0)\n",
    "            elif order == 0:\n",
    "                # Get amount and transaction detail by space separator\n",
    "                amount, transaction_detail = text_chunk.split(' ', 1)\n",
    "                # Remove dot letter\n",
    "                data['amount'] = amount.replace(\".\",\"\")\n",
    "                data['transaction_detail'] = transaction_detail\n",
    "                order += 1\n",
    "            elif order == 1:\n",
    "                data['transaction_code'] = text_chunk\n",
    "                order += 1\n",
    "            else:\n",
    "                data['transaction_detail'] += ' ' + text_chunk\n",
    "        \n",
    "    if data['transaction_code']:\n",
    "        data['date'] = date\n",
    "        transactions.append(data)\n",
    "    \n",
    "    if use_multithread:\n",
    "        output_csv_path = export_csv(page.page_number, transactions)\n",
    "        page.close()\n",
    "        return output_csv_path\n",
    "    else:\n",
    "        #gc.collect()\n",
    "        return transactions\n",
    "    \n",
    "    "
   ],
   "id": "1b26117580e59c05",
   "outputs": [],
   "execution_count": 6
  },
  {
   "metadata": {
    "ExecuteTime": {
     "end_time": "2024-09-16T12:56:13.576148Z",
     "start_time": "2024-09-16T12:56:13.574026Z"
    }
   },
   "cell_type": "code",
   "source": [
    "def write_to_csv(pdf_file, csv_file, headers):\n",
    "    pdf = pdfplumber.open(pdf_file)\n",
    "    with open(csv_file, 'w', newline='') as csv_file:\n",
    "        writer = csv.DictWriter(csv_file, fieldnames=headers)\n",
    "        writer.writeheader()\n",
    "        for page in pdf.pages:\n",
    "            transactions = transform_into_transactions(page, use_multithread=False)\n",
    "            if len(transactions) > 0:\n",
    "                for transaction in transactions:\n",
    "                    writer.writerow(transaction)\n",
    "            transactions.clear()\n",
    "            print('Processed page {}'.format(page.page_number))\n",
    "            page.close()"
   ],
   "id": "186ef35c54968431",
   "outputs": [],
   "execution_count": 7
  },
  {
   "metadata": {
    "ExecuteTime": {
     "end_time": "2024-09-16T12:56:13.578870Z",
     "start_time": "2024-09-16T12:56:13.576836Z"
    }
   },
   "cell_type": "code",
   "source": [
    "def process_pdf_in_threads(pdf_file_path):\n",
    "    output_csv_paths = []\n",
    "    \n",
    "    with pdfplumber.open(pdf_file_path) as pdf:\n",
    "        # Process each page in parallel using ThreadPoolExecutor\n",
    "        with concurrent.futures.ThreadPoolExecutor() as executor:\n",
    "            futures = []\n",
    "            for page_number, page in enumerate(pdf.pages):\n",
    "                futures.append(executor.submit(transform_into_transactions, page))\n",
    "            \n",
    "            # Collect all output CSV paths\n",
    "            for future in concurrent.futures.as_completed(futures):\n",
    "                output_csv_paths.append(future.result())\n",
    "    \n",
    "    return output_csv_paths"
   ],
   "id": "5838440a6c8d9e5c",
   "outputs": [],
   "execution_count": 8
  },
  {
   "metadata": {
    "ExecuteTime": {
     "end_time": "2024-09-16T12:56:13.581584Z",
     "start_time": "2024-09-16T12:56:13.579519Z"
    }
   },
   "cell_type": "code",
   "source": [
    "def merge_csvs(output_csv_paths, final_csv_path):\n",
    "    with open(final_csv_path, 'w', newline='', encoding='utf-8') as final_csv:\n",
    "        writer = csv.DictWriter(final_csv, fieldnames=csv_headers)\n",
    "        writer.writeheader()  # Write header once\n",
    "        \n",
    "        # Merge each individual CSV file\n",
    "        for csv_path in output_csv_paths:\n",
    "            with open(csv_path, 'r', newline='', encoding='utf-8') as csv_file:\n",
    "                reader = csv.DictReader(csv_file)\n",
    "                for row in reader:\n",
    "                    writer.writerow(row)"
   ],
   "id": "c1805a71818746fc",
   "outputs": [],
   "execution_count": 9
  },
  {
   "metadata": {
    "ExecuteTime": {
     "end_time": "2024-09-16T12:56:13.584606Z",
     "start_time": "2024-09-16T12:56:13.583091Z"
    }
   },
   "cell_type": "code",
   "source": [
    "def extract_multiple_thread():\n",
    "    # Process PDF pages in parallel and save them as CSVs\n",
    "    output_csv_paths = process_pdf_in_threads(pdf_file_path)\n",
    "    \n",
    "    # Merge all CSVs into a single final CSV\n",
    "    merge_csvs(output_csv_paths, csv_file_path)\n",
    "    \n",
    "    # Final garbage collection\n",
    "    gc.collect()\n",
    "    \n",
    "    print(\"Processing and merging complete!\")"
   ],
   "id": "ac9398668a9715c1",
   "outputs": [],
   "execution_count": 10
  },
  {
   "metadata": {
    "ExecuteTime": {
     "end_time": "2024-09-16T12:56:13.586437Z",
     "start_time": "2024-09-16T12:56:13.585124Z"
    }
   },
   "cell_type": "code",
   "source": "#write_to_csv(pdf_file_path, csv_file_path, csv_headers)",
   "id": "8a650e31db0a87db",
   "outputs": [],
   "execution_count": 11
  },
  {
   "metadata": {},
   "cell_type": "code",
   "source": "extract_multiple_thread()",
   "id": "608317a2a9eafb25",
   "outputs": [],
   "execution_count": null
  }
 ],
 "metadata": {
  "kernelspec": {
   "display_name": "Python 3.9.6 64-bit",
   "language": "python",
   "name": "python3"
  },
  "language_info": {
   "codemirror_mode": {
    "name": "ipython",
    "version": 2
   },
   "file_extension": ".py",
   "mimetype": "text/x-python",
   "name": "python",
   "nbconvert_exporter": "python",
   "pygments_lexer": "ipython2",
   "version": "3.9.6"
  },
  "vscode": {
   "interpreter": {
    "hash": "31f2aee4e71d21fbe5cf8b01ff0e069b9275f58929596ceb00d14d90e3e16cd6"
   }
  }
 },
 "nbformat": 4,
 "nbformat_minor": 5
}
